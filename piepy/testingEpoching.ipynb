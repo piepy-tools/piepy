{
 "cells": [
  {
   "cell_type": "code",
   "execution_count": 1,
   "metadata": {},
   "outputs": [],
   "source": [
    "\n",
    "import mne \n",
    "import numpy as np\n",
    "import pandas as pd\n",
    "import mne_bids"
   ]
  },
  {
   "cell_type": "markdown",
   "metadata": {},
   "source": []
  },
  {
   "cell_type": "code",
   "execution_count": 7,
   "metadata": {},
   "outputs": [],
   "source": [
    "data_path = '/Users/dcellier/Library/CloudStorage/OneDrive-Personal/UCSD/Voytek_Lab/iEEG_BIDS/'"
   ]
  },
  {
   "cell_type": "code",
   "execution_count": 8,
   "metadata": {},
   "outputs": [
    {
     "name": "stdout",
     "output_type": "stream",
     "text": [
      "Reading 0 ... 1851007  =      0.000 ...  1807.624 secs...\n"
     ]
    },
    {
     "name": "stderr",
     "output_type": "stream",
     "text": [
      "<ipython-input-8-215d8b2eac84>:5: RuntimeWarning: The number of channels in the channels.tsv sidecar file (228) does not match the number of channels in the raw data file (245). Will not try to set channel names.\n",
      "  raw = mne_bids.read_raw_bids(bids_path=bids_path, verbose=False)\n",
      "<ipython-input-8-215d8b2eac84>:5: RuntimeWarning: The unit for channel(s) DC1, TRIG has changed from V to NA.\n",
      "  raw = mne_bids.read_raw_bids(bids_path=bids_path, verbose=False)\n",
      "<ipython-input-8-215d8b2eac84>:5: RuntimeWarning: There are channels without locations (n/a) that are not marked as bad: ['DC1', 'TRIG']\n",
      "  raw = mne_bids.read_raw_bids(bids_path=bids_path, verbose=False)\n",
      "<ipython-input-8-215d8b2eac84>:5: RuntimeWarning: DigMontage is only a subset of info. There are 17 channel positions not present in the DigMontage. The required channels are:\n",
      "\n",
      "['Trigger Event', 'C207', 'C208', 'RA2', 'RA3', 'RA6', 'RA8', 'RA9', 'RA10', 'RA11', 'RA12', 'RA13', 'RA14', 'RA15', 'RA16', 'EKG1', 'EKG2'].\n",
      "\n",
      "Consider using inst.set_channel_types if these are not EEG channels, or use the on_missing parameter if the channel positions are allowed to be unknown in your analyses.\n",
      "  raw = mne_bids.read_raw_bids(bids_path=bids_path, verbose=False)\n",
      "<ipython-input-8-215d8b2eac84>:5: RuntimeWarning: Not setting positions of 2 stim channels found in montage:\n",
      "['DC1', 'TRIG']\n",
      "Consider setting the channel types to be of EEG/sEEG/ECoG/DBS/fNIRS using inst.set_channel_types before calling inst.set_montage, or omit these channels when creating your montage.\n",
      "  raw = mne_bids.read_raw_bids(bids_path=bids_path, verbose=False)\n"
     ]
    },
    {
     "data": {
      "text/html": [
       "<table class=\"table table-hover table-striped table-sm table-responsive small\">\n",
       "    <tr>\n",
       "        <th>Measurement date</th>\n",
       "        \n",
       "        <td>December 12, 2020  14:19:07 GMT</td>\n",
       "        \n",
       "    </tr>\n",
       "    <tr>\n",
       "        <th>Experimenter</th>\n",
       "        \n",
       "        <td>mne_anonymize</td>\n",
       "        \n",
       "    </tr>\n",
       "        <th>Participant</th>\n",
       "        \n",
       "            \n",
       "            <td>sub-1009</td>\n",
       "            \n",
       "        \n",
       "    </tr>\n",
       "    <tr>\n",
       "        <th>Digitized points</th>\n",
       "        \n",
       "        <td>0 points</td>\n",
       "        \n",
       "    </tr>\n",
       "    <tr>\n",
       "        <th>Good channels</th>\n",
       "        <td>226 sEEG, 2 Stimulus</td>\n",
       "    </tr>\n",
       "    <tr>\n",
       "        <th>Bad channels</th>\n",
       "        <td>None</td>\n",
       "    </tr>\n",
       "    <tr>\n",
       "        <th>EOG channels</th>\n",
       "        <td>Not available</td>\n",
       "    </tr>\n",
       "    <tr>\n",
       "        <th>ECG channels</th>\n",
       "        <td>Not available</td>\n",
       "    \n",
       "    <tr>\n",
       "        <th>Sampling frequency</th>\n",
       "        <td>1024.00 Hz</td>\n",
       "    </tr>\n",
       "    \n",
       "    \n",
       "    <tr>\n",
       "        <th>Highpass</th>\n",
       "        <td>0.00 Hz</td>\n",
       "    </tr>\n",
       "    \n",
       "    \n",
       "    <tr>\n",
       "        <th>Lowpass</th>\n",
       "        <td>512.00 Hz</td>\n",
       "    </tr>\n",
       "    \n",
       "    \n",
       "    \n",
       "    <tr>\n",
       "        <th>Filenames</th>\n",
       "        <td>sub-1009_task-PrOPHEcy_ieeg.edf</td>\n",
       "    </tr>\n",
       "    \n",
       "    <tr>\n",
       "        <th>Duration</th>\n",
       "        <td>00:30:07 (HH:MM:SS)</td>\n",
       "    </tr>\n",
       "</table>"
      ],
      "text/plain": [
       "<RawEDF | sub-1009_task-PrOPHEcy_ieeg.edf, 228 x 1851008 (1807.6 s), ~3.14 GB, data loaded>"
      ]
     },
     "execution_count": 8,
     "metadata": {},
     "output_type": "execute_result"
    }
   ],
   "source": [
    "# first define the bids path\n",
    "bids_path = mne_bids.BIDSPath(root=data_path, subject='1009', task='PrOPHEcy', datatype='ieeg', extension='edf') # task = 'PrOPHEcy'?\n",
    "\n",
    "# make raw object\n",
    "raw = mne_bids.read_raw_bids(bids_path=bids_path, verbose=False)\n",
    "\n",
    "# Pick only the ECoG channels, removing the EKG channels\n",
    "raw.pick_types(seeg=True, stim=True)\n",
    "\n",
    "# Load the data\n",
    "raw.load_data()"
   ]
  },
  {
   "cell_type": "code",
   "execution_count": 15,
   "metadata": {},
   "outputs": [
    {
     "data": {
      "text/plain": [
       "(228, 1851008)"
      ]
     },
     "execution_count": 15,
     "metadata": {},
     "output_type": "execute_result"
    }
   ],
   "source": [
    "raw.get_data().shape"
   ]
  },
  {
   "cell_type": "code",
   "execution_count": 16,
   "metadata": {},
   "outputs": [
    {
     "data": {
      "text/plain": [
       "(1851008,)"
      ]
     },
     "execution_count": 16,
     "metadata": {},
     "output_type": "execute_result"
    }
   ],
   "source": [
    "raw.times.shape"
   ]
  },
  {
   "cell_type": "code",
   "execution_count": 17,
   "metadata": {},
   "outputs": [
    {
     "data": {
      "text/plain": [
       "0"
      ]
     },
     "execution_count": 17,
     "metadata": {},
     "output_type": "execute_result"
    }
   ],
   "source": [
    "10%2"
   ]
  },
  {
   "cell_type": "code",
   "execution_count": 19,
   "metadata": {},
   "outputs": [
    {
     "name": "stdout",
     "output_type": "stream",
     "text": [
      "nope\n"
     ]
    }
   ],
   "source": [
    "try:\n",
    "    assert 10%2 > 0, 'nope'\n",
    "except AssertionError as msg: \n",
    "    print(msg)"
   ]
  },
  {
   "cell_type": "code",
   "execution_count": null,
   "metadata": {},
   "outputs": [],
   "source": []
  }
 ],
 "metadata": {
  "kernelspec": {
   "display_name": "Python 3.8.8 ('base')",
   "language": "python",
   "name": "python3"
  },
  "language_info": {
   "codemirror_mode": {
    "name": "ipython",
    "version": 3
   },
   "file_extension": ".py",
   "mimetype": "text/x-python",
   "name": "python",
   "nbconvert_exporter": "python",
   "pygments_lexer": "ipython3",
   "version": "3.8.8"
  },
  "orig_nbformat": 4,
  "vscode": {
   "interpreter": {
    "hash": "aa8ff0cd82a3b07a3ce13df4336ffe42bab4463fb5030555eda3c1159025ad5d"
   }
  }
 },
 "nbformat": 4,
 "nbformat_minor": 2
}
